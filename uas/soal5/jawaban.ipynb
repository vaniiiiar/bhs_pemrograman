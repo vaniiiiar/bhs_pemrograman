{
 "cells": [
  {
   "cell_type": "markdown",
   "metadata": {},
   "source": [
    "Data penjualan adalah kumpulan informasi yang mencatat aktivitas penjualan suatu produk atau layanan selama periode waktu tertentu, data penjualan yang saya ambil adalah data penjualan skincare/kosmetik\n",
    "\n",
    "1. What (Apa)\n",
    "produk skincare yang paling laris sekarang produk pembersih muka, toner, pelembab, sunscreen. Ada banyak kategori seperti anti-aging, moisturizing, acne treatment. \n",
    "banyak yang mempengaruhi penjualan produk skincare yaitu Faktor seperti ulasan pelanggan, harga, kualitas produk, \n",
    "\n",
    "2. Why (Mengapa)\n",
    "adanya peningkatan dan penurunan mungkin karena pergantian musim, promosi suatu intansi, atau peluncuran produk baru. Pelanggan memilih produk skincare tertentu dengan alasan seperti brand yang sudah mempunyai nama sedari lama, rekomendasi dari influencer, atau kebutuhan khusus kulit.\n",
    "\n",
    "3. When (Kapan)\n",
    "Adanya waktu penjualan tertinggi terjadi selama liburan, hari besar, atau saat diskon.tanggal kembar di social media. Dan ada waktu penjualan terendah terjadi saat bukan musim liburan atau tidak ada promosi khusus.\n",
    "dan mempunyai perubahan signifikan dalam tren penjualan dengan peluncuran produk baru atau perubahan harga.\n",
    "\n",
    "4. Where (Di mana)\n",
    "Lokasi penjualan tertinggi ada dalam wilayah yang besar dan rapat penduduk. \n",
    "penjualan produk terbanyak ada pada platform online \n",
    "ada wilayah penurunan penjualan yang signifikan Mungkin di daerah tertentu atau pada platform penjualan tertentu.\n",
    "\n",
    "5. Who (Siapa)\n",
    "ada pelanggan utama dari produk skincare dari kalangan wanita berusia 18-35 tahun, dan orang yang mempunyai masalah kulit yang sama dengan produk kita. Ada distributor atau retailer besar yang sering membeli dalam jumlah banyak lalu di jualkan Kembali ke daerah terpencil.Dan ada beberapa konsumen yang lebih sering melakukan pembelian yang sudah percaya dengan produk kita, dan ada yang ingin mencoba produk.\n",
    "\n",
    "6. How (Bagaimana)\n",
    "Strategi pemasaran mempengaruhi penjualan produk skincare ada pada di platform media sosial, influencer marketing, dan promosi intansi. Banyak perubahan harga mempengaruhi volume penjualan.banyak pelayanan pelanggan mempengaruhi kepuasan dan loyalitas pelanggan Respons cepat, kebijakan pengembalian yang baik, dll.\n",
    "\n",
    "Strengths (Kekuatan) memilik kualitas Produk yang tinggi seperti Produk skincare memiliki kualitas yang terbukti dan di rasa cocok oleh para konsumen dengan pemakaian pribadi. brand recognition yang Kuat: Merek skincare sudah dikenal luas, membangun kepercayaan dan loyalitas pelanggan. Inovasi Produk mempunyai kemampuan untuk terus berinovasi dengan formula dan teknologi baru dalam produk skincare, menanggapi kebutuhan dan tren pasar. dan memiversifikasi Produk memiliki berbagai kategori produk skincare yang memenuhi berbagai kebutuhan pelanggan, seperti anti-aging, acne treatment, dan moisturizing. dan Distribusi yang Luas: Jaringan distribusi yang mencakup banyak platform, baik offline (toko fisik) maupun online (e-commerce), memudahkan akses pelanggan ke produk.\n",
    "\n",
    "Weaknesses (Kelemahan) harga yang Lebih Tinggi: Produk dijual dengan harga yang lebih tinggi dibandingkan beberapa pesaing, yang mungkin kurang menarik bagi pelanggan yang sensitif terhadap harga. Lalu ketergantungan pada Segmen Pasar Tertentu: Terlalu bergantung pada segmen pasar tertentu, seperti wanita muda, sehingga rentan terhadap perubahan preferensi dalam segmen tersebut.\n",
    "Keterbatasan Pemasaran Digital: Kurangnya fokus pada pemasaran digital dan kehadiran media sosial yang lemah, mengurangi visibilitas dan daya tarik online.\n",
    "Proses Logistik yang Kurang Efisien: Isu logistik dan rantai pasokan yang dapat menyebabkan keterlambatan pengiriman dan penurunan kepuasan pelanggan.\n",
    "Kurangnya Diferensiasi Produk: Produk skincare mungkin kurang dibedakan dari produk pesaing, sehingga sulit menarik perhatian pelanggan baru.\n",
    "\n",
    "Opportunities (Peluang)\n",
    "Ekspansi Pasar Internasional: Peluang untuk memasuki pasar internasional baru, memperluas jangkauan dan basis pelanggan.\n",
    "Peningkatan Permintaan Produk Skincare: Tren peningkatan kesadaran akan perawatan kulit dan kecantikan, meningkatkan permintaan untuk produk skincare berkualitas.\n",
    "Kemajuan Teknologi: Memanfaatkan teknologi baru untuk inovasi produk, meningkatkan efektivitas dan pengalaman pelanggan.\n",
    "Kolaborasi dengan Influencer: Bekerjasama dengan influencer dan selebriti untuk meningkatkan visibilitas dan menarik perhatian lebih banyak pelanggan.\n",
    "Peningkatan Fokus pada Keberlanjutan: Mengadopsi praktik ramah lingkungan dan keberlanjutan dalam produksi dan kemasan produk, menarik pelanggan yang peduli lingkungan.\n",
    "\n",
    "Threats (Ancaman)\n",
    "Persaingan yang Ketat: Persaingan yang semakin ketat dari merek skincare lokal maupun internasional yang menawarkan produk dengan harga lebih kompetitif.\n",
    "Perubahan Preferensi Pelanggan: Perubahan dalam tren dan preferensi pelanggan yang dapat menyebabkan penurunan permintaan untuk produk tertentu.\n",
    "Ketidakpastian Ekonomi: Kondisi ekonomi yang tidak stabil dapat mempengaruhi daya beli pelanggan dan menurunkan penjualan.\n",
    "Regulasi yang Ketat: Perubahan regulasi terkait bahan baku kosmetik dan produk perawatan kulit yang dapat meningkatkan biaya produksi dan operasional.\n",
    "Isu Logistik dan Rantai Pasokan: Gangguan dalam rantai pasokan atau masalah logistik yang dapat mempengaruhi ketersediaan produk di pasar.\n",
    "\n"
   ]
  }
 ],
 "metadata": {
  "language_info": {
   "name": "python"
  }
 },
 "nbformat": 4,
 "nbformat_minor": 2
}
