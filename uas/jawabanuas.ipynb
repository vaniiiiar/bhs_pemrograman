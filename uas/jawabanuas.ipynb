{
 "cells": [
  {
   "cell_type": "markdown",
   "metadata": {},
   "source": [
    "1. Function adalah blok kode yang dirancang untuk melakukan tugas tertentu dan dapat dipanggil dari tempat lain dalam program.\n",
    "- Recursive function adalah function yang mengeksekusi diri sendiri, jika tidak ada kondisi khusus maka bisa membuat eksekusi kode terus berulang dan tak pernah stop.\n",
    "\n"
   ]
  },
  {
   "cell_type": "code",
   "execution_count": null,
   "metadata": {},
   "outputs": [],
   "source": [
    "def greet(name):\n",
    "    return f\"Hello, {name}!\"\n",
    "\n",
    "print(greet(\"wawa\")) \n"
   ]
  },
  {
   "cell_type": "code",
   "execution_count": null,
   "metadata": {},
   "outputs": [],
   "source": [
    "def factorial(n):\n",
    "    if n == 0:\n",
    "        return 1\n",
    "    else:\n",
    "        return n * factorial(n - 1)\n",
    "    \n",
    "print(factorial(5)) \n"
   ]
  },
  {
   "cell_type": "markdown",
   "metadata": {},
   "source": [
    "2. Exception Handling adalah proses untuk menulis kode yang dapat menangani kesalahan yang mungkin muncul saat program dijalankan"
   ]
  },
  {
   "cell_type": "code",
   "execution_count": null,
   "metadata": {},
   "outputs": [],
   "source": [
    "def bagi(angka1, angka2):\n",
    "    try:\n",
    "        hasil = angka1 / angka2\n",
    "    except ZeroDivisionError:\n",
    "        return \"Error: Tidak bisa membagi dengan nol!\"\n",
    "    except TypeError:\n",
    "        return \"Error: Pastikan kedua input adalah angka!\"\n",
    "    else:\n",
    "        return f\"Hasil pembagian adalah {hasil}\"\n",
    "    finally:\n",
    "        print(\"Eksekusi blok finally\")\n",
    "\n",
    "print(bagi(10, 2))  \n",
    "print(bagi(10, 0))  \n",
    "print(bagi(10, \"a\")) \n"
   ]
  },
  {
   "cell_type": "markdown",
   "metadata": {},
   "source": [
    "3. Graphical User Interface adalah sebuah sistem desain visual yang interaktif untuk sebuah software komputer. GUI menampilkan objek dari sebuah desain yang dapat menyampaikan informasi yang dibutuhkan dan mempresentasikan kerja dari pengguna"
   ]
  },
  {
   "cell_type": "code",
   "execution_count": 12,
   "metadata": {},
   "outputs": [
    {
     "ename": "ModuleNotFoundError",
     "evalue": "No module named 'tkinter'",
     "output_type": "error",
     "traceback": [
      "\u001b[0;31m---------------------------------------------------------------------------\u001b[0m",
      "\u001b[0;31mModuleNotFoundError\u001b[0m                       Traceback (most recent call last)",
      "Cell \u001b[0;32mIn[12], line 1\u001b[0m\n\u001b[0;32m----> 1\u001b[0m \u001b[38;5;28;01mimport\u001b[39;00m \u001b[38;5;21;01mtkinter\u001b[39;00m \u001b[38;5;28;01mas\u001b[39;00m \u001b[38;5;21;01mtk\u001b[39;00m\n\u001b[1;32m      2\u001b[0m \u001b[38;5;28;01mfrom\u001b[39;00m \u001b[38;5;21;01mtkinter\u001b[39;00m \u001b[38;5;28;01mimport\u001b[39;00m messagebox\n\u001b[1;32m      4\u001b[0m \u001b[38;5;66;03m# Function to display a message when the button is clicked\u001b[39;00m\n",
      "\u001b[0;31mModuleNotFoundError\u001b[0m: No module named 'tkinter'"
     ]
    }
   ],
   "source": [
    "import tkinter as tk\n",
    "from tkinter import messagebox\n",
    "\n",
    "# Function to display a message when the button is clicked\n",
    "def on_button_click():\n",
    "    name = entry.get()\n",
    "    if name:\n",
    "        messagebox.showinfo(\"Greeting\", f\"Hello, {name}!\")\n",
    "    else:\n",
    "        messagebox.showwarning(\"Warning\", \"Please enter a name first!\")\n",
    "\n",
    "# Create the main window\n",
    "root = tk.Tk()\n",
    "root.title(\"Greeting Application\")\n",
    "\n",
    "# Create a label\n",
    "label = tk.Label(root, text=\"Enter Your Name:\")\n",
    "label.pack(pady=10)\n",
    "\n",
    "# Create an entry (text input)\n",
    "entry = tk.Entry(root)\n",
    "entry.pack(pady=10)\n",
    "\n",
    "# Create a button\n",
    "button = tk.Button(root, text=\"Greet\", command=on_button_click)\n",
    "button.pack(pady=10)\n",
    "\n",
    "# Run the main loop of the application\n",
    "root.mainloop()\n"
   ]
  },
  {
   "cell_type": "markdown",
   "metadata": {},
   "source": [
    "4. Untuk membuat bahasa pemrograman Python yang berkomunikasi dengan database, kita perlu memahami beberapa langkah dasar. Langkah-langkah dan contoh kode untuk berinteraksi dengan database menggunakan Python, dengan menggunakan MySQL\n",
    " - Instalasi Pustaka Database adalah menginstal yang sesuai untuk berinteraksi dengan jenis database\n",
    " yang digunakan.\n",
    " - Membuat Koneksi ke Database menggunakan pustaka untuk membuat koneksi ke database.\n",
    " - Mengeksekusi Query SQL menggunakan koneksi untuk mengeksekusi query SQL.\n",
    " - Mengambil Hasil Query dari query yang dieksekusi, jika ada.\n",
    " - Menutup Koneksi setelah selesai menggunakan database.\n",
    "\n",
    "- kode untuk menginstall\n",
    "pip install mysql-connector-python\n"
   ]
  },
  {
   "cell_type": "code",
   "execution_count": 13,
   "metadata": {},
   "outputs": [
    {
     "name": "stdout",
     "output_type": "stream",
     "text": [
      "Error: 2003 (HY000): Can't connect to MySQL server on 'localhost:3306' (111)\n"
     ]
    }
   ],
   "source": [
    "import mysql.connector\n",
    "from mysql.connector import Error\n",
    "\n",
    "def create_connection():\n",
    "    \"\"\" create a database connection to a MySQL database \"\"\"\n",
    "    try:\n",
    "        connection = mysql.connector.connect(\n",
    "            host='localhost',\n",
    "            database='test_db',\n",
    "            user='your_username',\n",
    "            password='your_password'\n",
    "        )\n",
    "        if connection.is_connected():\n",
    "            print(\"Connection to MySQL database is successful\")\n",
    "            return connection\n",
    "    except Error as e:\n",
    "        print(f\"Error: {e}\")\n",
    "        return None\n",
    "\n",
    "def create_table(connection):\n",
    "    \"\"\" create a table \"\"\"\n",
    "    try:\n",
    "        cursor = connection.cursor()\n",
    "        cursor.execute(\"\"\"\n",
    "            CREATE TABLE IF NOT EXISTS users (\n",
    "                id INT AUTO_INCREMENT PRIMARY KEY,\n",
    "                name VARCHAR(255) NOT NULL,\n",
    "                age INT NOT NULL\n",
    "            )\n",
    "        \"\"\")\n",
    "        connection.commit()\n",
    "        print(\"Table created successfully\")\n",
    "    except Error as e:\n",
    "        print(f\"Error: {e}\")\n",
    "\n",
    "def insert_data(connection, name, age):\n",
    "    \"\"\" insert data into table \"\"\"\n",
    "    try:\n",
    "        cursor = connection.cursor()\n",
    "        cursor.execute(\"INSERT INTO users (name, age) VALUES (%s, %s)\", (name, age))\n",
    "        connection.commit()\n",
    "        print(\"Data inserted successfully\")\n",
    "    except Error as e:\n",
    "        print(f\"Error: {e}\")\n",
    "\n",
    "def fetch_data(connection):\n",
    "    \"\"\" fetch data from table \"\"\"\n",
    "    try:\n",
    "        cursor = connection.cursor()\n",
    "        cursor.execute(\"SELECT * FROM users\")\n",
    "        rows = cursor.fetchall()\n",
    "        for row in rows:\n",
    "            print(row)\n",
    "    except Error as e:\n",
    "        print(f\"Error: {e}\")\n",
    "\n",
    "if __name__ == \"__main__\":\n",
    "    conn = create_connection()\n",
    "    if conn:\n",
    "        create_table(conn)\n",
    "        insert_data(conn, \"Alice\", 30)\n",
    "        insert_data(conn, \"Bob\", 25)\n",
    "        fetch_data(conn)\n",
    "        conn.close()\n"
   ]
  },
  {
   "cell_type": "markdown",
   "metadata": {},
   "source": [
    "5. "
   ]
  }
 ],
 "metadata": {
  "kernelspec": {
   "display_name": "Python 3",
   "language": "python",
   "name": "python3"
  },
  "language_info": {
   "codemirror_mode": {
    "name": "ipython",
    "version": 3
   },
   "file_extension": ".py",
   "mimetype": "text/x-python",
   "name": "python",
   "nbconvert_exporter": "python",
   "pygments_lexer": "ipython3",
   "version": "3.10.12"
  }
 },
 "nbformat": 4,
 "nbformat_minor": 2
}
